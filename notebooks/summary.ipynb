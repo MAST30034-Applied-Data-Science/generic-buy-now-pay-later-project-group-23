{
 "cells": [
  {
   "cell_type": "markdown",
   "metadata": {},
   "source": [
    "\n",
    "# BNPL Project \n",
    "## Group 23\n",
    "### Yang Chen, Jialu Feng, Yu Deng, Yiting Liu, Liyang Chen\n",
    "#### Audience:\n",
    "The company who pursing low risk and continuous profit.\n",
    "#### Action taken:\n",
    "Only cooperate with no fraud record merchants or users.(Delete the probable fraud data)\n",
    "#### Benefits:\n",
    "No risk taken -> higher efficiency(every transaction will be complete safely).\n",
    "#### Disadvantage:\n",
    "Losing some costumers with relative low fraud probability.\n",
    "\n"
   ]
  },
  {
   "cell_type": "markdown",
   "metadata": {},
   "source": [
    "## Pre-processing"
   ]
  },
  {
   "cell_type": "markdown",
   "metadata": {},
   "source": [
    "### Missing value and outlier detection"
   ]
  },
  {
   "cell_type": "markdown",
   "metadata": {},
   "source": [
    "Dollar_value seriously dispersed, the maximum value is 77320, but the 75% quantile is only 150.42. Therefore outliers detected, after delete them the distribution become better."
   ]
  },
  {
   "cell_type": "markdown",
   "metadata": {},
   "source": [
    "\n",
    "![graph1](plots/dollar_value_dist.png)\n",
    "**_Graph 1 Dollar value distribution_**<br>\n",
    "![graph2](plots/Outlier_dollar_value.png)\n",
    "**_Graph 2 Outlier deleted distribution_**<br>"
   ]
  },
  {
   "cell_type": "markdown",
   "metadata": {},
   "source": [
    "<br>\n",
    "By checking the revenue level distribution, it is clear to see the main customer’s revenue level are relative low(a,b,c)."
   ]
  },
  {
   "cell_type": "markdown",
   "metadata": {},
   "source": [
    "**_Graph 3 Revenue Level Distribution_**\n",
    "![graph3](plots/Revenue_level_distribution.png)"
   ]
  },
  {
   "cell_type": "markdown",
   "metadata": {},
   "source": [
    "Moreover, by graph3 shows users with higher revenue level has higher fraud probability(60%-70%), even lower revenue level have over 30% fraud probability which is relative high. <br>\n",
    "\n",
    "For each merchant(graph3) revenue level their probability of fraud is 14%. <br>\n",
    "\n",
    "As BNPL is not a new idea, but with the boom in e-commerce during the Covid-19 pandemic, BNPL has exploded onto the payments scene as a major industry. Moreover, Covid-19 had a huge hit on people's economic situation, therefore a safe action need to be taken for this situation. Hence we decided to delete all transaction which may have fraud probability.\n"
   ]
  },
  {
   "cell_type": "markdown",
   "metadata": {},
   "source": [
    "![graph4](plots/Level_vs_fraud.png)\n",
    "**_Graph 4 Merchant revenue and fraud prob_**\n",
    "![graph5](plots/Level_vs_fraud_consumer.png)\n",
    "**_Graph 5 User revenue and fraud prob_**"
   ]
  },
  {
   "cell_type": "markdown",
   "metadata": {},
   "source": [
    "## Model fitting\n",
    "### Procedure\n",
    "By reading the tags, there are various types of merchants, and before building the model, the merchants were selected from the segments with high frequency of tags, and the derived variable (ARPU) average revenue per user was also calculated.<br>\n",
    "\n",
    "Because the transaction of fraud has been removed, the highest revenue is the only criterion for ranking. An OLS linear regression model was used to fit the data and obtain the variables for prediction. For music shops, revenue levels, user counts, open days count for merchant, sold items count per merchant and ARPU are some of the variables that have significant effects, and the predicted revenue is added. in the dataset.<br>"
   ]
  },
  {
   "cell_type": "markdown",
   "metadata": {},
   "source": [
    "## Segment choosing(5 segments):\n",
    "### Gift, Furniture, Shoes shops, ‘Cable, satellite, and other pay television and radio service’(215493) <br>\n",
    "\n",
    "For segment choosing. The main reason we choose cable as one of the segment is because we noticed that there are 12723 transactions(160 merchants) is about Cable tags and the surprising thing is they have same price - $157, rest of transactions price are unique. Therefore we think this $157 product is the most popular one. Thus it becomes one of the segment we discussed.\n",
    "For other segments, we think they are commonly used item in our daily life therefore and they have enough data.\n"
   ]
  },
  {
   "cell_type": "markdown",
   "metadata": {},
   "source": [
    "### Top 10 Shops for selected tags\n",
    "The range between #1 to #10 is quite obvious to observe, ranked by predicted revenue. For cable, gift and shoe shops, predicted revenue is between the range $600000 to $200000. For furniture shops, the highest predicted revenue is around $2000000 which is much larger than other segments and indicate the potential."
   ]
  },
  {
   "cell_type": "markdown",
   "metadata": {},
   "source": [
    "![graph6](plots/Top10_cable.png)\n",
    "**_Graph 6 Top 10 cable shops_**\n",
    "![graph7](plots/Top10_furniture.png)\n",
    "**_Graph 7 Top 10 furniture shops_**\n",
    "![graph8](plots/Top10_gift.png)\n",
    "**_Graph 8 Top 10 gift shops_**\n",
    "![graph9](plots/Top10_shoe.png)\n",
    "**_Graph 9 Top 10 shoe shops_**"
   ]
  }
 ],
 "metadata": {
  "kernelspec": {
   "display_name": "Python 3.8.13 ('ads')",
   "language": "python",
   "name": "python3"
  },
  "language_info": {
   "codemirror_mode": {
    "name": "ipython",
    "version": 3
   },
   "file_extension": ".py",
   "mimetype": "text/x-python",
   "name": "python",
   "nbconvert_exporter": "python",
   "pygments_lexer": "ipython3",
   "version": "3.8.13"
  },
  "orig_nbformat": 4,
  "vscode": {
   "interpreter": {
    "hash": "3b4ea10016098d5ca18cdcadb80706d14952c307628f09f11f21b3bbdec48c39"
   }
  }
 },
 "nbformat": 4,
 "nbformat_minor": 2
}
