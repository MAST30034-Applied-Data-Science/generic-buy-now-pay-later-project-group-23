{
 "cells": [
  {
   "cell_type": "markdown",
   "metadata": {},
   "source": [
    "\n",
    "# BNPL Project \n",
    "## Group 23\n",
    "### Yang Chen, Jialu Feng, Yu Deng, Yiting Liu, Liyang Chen\n",
    "#### Audience:\n",
    "Small BNPL companies who pursing low risk and continuous profit.\n",
    "#### Action taken:\n",
    "Only cooperate with no fraud record merchants or users.(Delete the probable fraud data)\n",
    "#### Benefits:\n",
    "No risk taken -> higher efficiency(every transaction will be complete safely).\n",
    "#### Disadvantage:\n",
    "Losing some costumers with relative low fraud probability.\n",
    "\n"
   ]
  },
  {
   "cell_type": "markdown",
   "metadata": {},
   "source": [
    "## Pre-processing"
   ]
  },
  {
   "cell_type": "markdown",
   "metadata": {},
   "source": [
    "### Missing value and outlier detection"
   ]
  },
  {
   "cell_type": "markdown",
   "metadata": {},
   "source": [
    "Dollar_value seriously dispersed, the maximum value is 77320, but the 75% quantile is only 150.42. Therefore outliers detected, after delete them the distribution become better."
   ]
  },
  {
   "cell_type": "markdown",
   "metadata": {},
   "source": [
    "![graph1](../plots/dollar_value)  \n",
    "**_Graph 1 Dollar value distribution_**<br>\n",
    "![graph2](../plots/dlt_dollar_value.png)  \n",
    "**_Graph 2 Outlier deleted distribution_**<br>"
   ]
  },
  {
   "cell_type": "markdown",
   "metadata": {},
   "source": [
    "<br>\n",
    "By checking the revenue level distribution, it is clear to see the main customer’s revenue level are relative low(a,b,c)."
   ]
  },
  {
   "cell_type": "markdown",
   "metadata": {},
   "source": [
    "![graph3](../plots/revenue_level.png)  \n",
    "**_Graph 3 Revenue Level Distribution_**"
   ]
  },
  {
   "cell_type": "markdown",
   "metadata": {},
   "source": [
    "Moreover, by graph2 shows users with higher revenue level has higher fraud probability(60%-70%), even lower revenue level have over 30% fraud probability which is relative high. <br>\n",
    "\n",
    "For each merchant(graph3) revenue level their probability of fraud is 14%. <br>\n",
    "\n",
    "As BNPL is not a new idea, but with the boom in e-commerce during the Covid-19 pandemic, BNPL has exploded onto the payments scene as a major industry. Moreover, Covid-19 had a huge hit on people's economic situation, therefore a safe action need to be taken for this situation. Hence we decided to delete all transaction which may have fraud probability.\n"
   ]
  },
  {
   "cell_type": "markdown",
   "metadata": {},
   "source": [
    "![graph4](../plots/merchant_fraud_prob.png)  \n",
    "**_Graph 4 Merchant revenue and fraud prob_**  \n",
    "![graph5](plots/consumer_fraud_prob.png)  \n",
    "**_Graph 5 User revenue and fraud prob_**"
   ]
  },
  {
   "cell_type": "markdown",
   "metadata": {},
   "source": [
    "Then, the random forest and logistic regression were used to predict whether a transaction will be judged as \"fraud\". The recall values of both models were low, which means the models badly predicted \"isfraud\" transactions. Apart from that, because our project is aimed at small businesses that don't want to take the risk, all transactions for merchants and customers with potential for fraud have been removed."
   ]
  },
  {
   "cell_type": "markdown",
   "metadata": {},
   "source": [
    "## Model fitting"
   ]
  },
  {
   "cell_type": "markdown",
   "metadata": {},
   "source": [
    "## Merchant type selection(5 segments):\n",
    "### Gift, Furniture, Shoes shops, ‘Cable, satellite, and other pay television and radio service’(215493) <br>\n",
    "\n",
    "For tag selection. The main reason we choose cable as one of the tags is that we noticed that there are 12723 transactions(160 merchants) is about Cable tags and the surprising thing is they have same price  $157, rest of transactions price are unique. Therefore we think this $157 product is the most popular one. Thus it becomes one of the tag we discussed.\n",
    "For other tags, we think they are commonly used item in our daily life therefore and they have enough data."
   ]
  },
  {
   "cell_type": "markdown",
   "metadata": {},
   "source": [
    "## Variables\n",
    "(for a single merchant)  \n",
    "usercnt: user amount  \n",
    "merchcnt: Number of product types sold  \n",
    "openday: Number of dates that have transactions  \n",
    "merchant_sold_cnt: total number of products  \n",
    "ARPU: average user per user  \n",
    "store_gmv: transaction amount  \n",
    "store_level: maximum revenue level  \n",
    "and mean amount of the external datasets  \n",
    "  \n",
    "Determine and sort a merchant's possible revenue by maximizing gmv times take rate"
   ]
  },
  {
   "cell_type": "markdown",
   "metadata": {},
   "source": [
    "## Feature selection\n",
    "Using ols regression model.  \n",
    "Benefits: Fast modeling and simple algorithm, suitable for such data with many instances and columns. Has strong interpretability, can give the interpretation of each variable according to the coefficient.  \n",
    "## Model results\n",
    "![graph6](../plots/model_all.jpg)  \n",
    "**_Graph 6 All merchants_**  \n",
    "![graph7](../plots/model_cable.jpg)  \n",
    "**_Graph 7 User revenue and fraud prob_**  \n",
    "![graph8](../plots/model_shoe.jpg)  \n",
    "**_Graph 8 User revenue and fraud prob_**  \n",
    "![graph9](../plots/model_gift.jpg)  \n",
    "**_Graph 9 User revenue and fraud prob_**\n"
   ]
  },
  {
   "cell_type": "markdown",
   "metadata": {},
   "source": [
    "### Top 10 Shops for selected tags\n",
    "The range between #1 to #10 is quite obvious to observe, ranked by predicted revenue. For cable, gift and shoe shops, predicted revenue is between the range 600000 to 200000 dollars. For furniture shops, the highest predicted revenue is around 2000000 dollars which is much larger than other segments and indicate the potential."
   ]
  },
  {
   "cell_type": "markdown",
   "metadata": {},
   "source": [
    "![graph10](../plots/top10cable.png)\n",
    "**_Graph 10 Top 10 cable shops_**\n",
    "![graph11](../plots/top10furniture.png)\n",
    "**_Graph 11 Top 10 furniture shops_**\n",
    "![graph12](../plots/top10shoe.png)\n",
    "**_Graph 12 Top 10 gift shops_**\n",
    "![graph13](../plots/top10gift.png)\n",
    "**_Graph 13 Top 10 shoe shops_**  \n",
    "![graph14](../plots/top100.png)  \n",
    "**_Graph 14 Top 100 for all merchants_**  \n",
    "![graph15](../plots/top10csv.jpg)  \n",
    "**_Graph 15_**"
   ]
  },
  {
   "cell_type": "markdown",
   "metadata": {},
   "source": [
    "## Limitations and Future Improvements\n",
    "The externel datasets are old, time-matched data will be more convincing. Also, SA2 devided datasets can make the analysis be more detailed.  \n",
    "  \n",
    "It is not good enough to directly judge fraud or not only according to the probability of fraud. If there is more data to support, a better judgment algorithm can be made if there is more data to support, and it may not be necessary to delete all data that may be fraud.  \n",
    "  \n",
    "OLS may not be the best model for the revenue prediction since it requires the linear relationship between the variables."
   ]
  }
 ],
 "metadata": {
  "kernelspec": {
   "display_name": "Python 3.9.12 ('base': conda)",
   "language": "python",
   "name": "python3"
  },
  "language_info": {
   "codemirror_mode": {
    "name": "ipython",
    "version": 3
   },
   "file_extension": ".py",
   "mimetype": "text/x-python",
   "name": "python",
   "nbconvert_exporter": "python",
   "pygments_lexer": "ipython3",
   "version": "3.9.12"
  },
  "orig_nbformat": 4,
  "vscode": {
   "interpreter": {
    "hash": "9fb3fd506b00d4a09ae96266d7dab8341669265dfc1d8d4c4a98d6c791c5504f"
   }
  }
 },
 "nbformat": 4,
 "nbformat_minor": 2
}
