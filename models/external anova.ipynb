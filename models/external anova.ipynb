{
 "cells": [
  {
   "cell_type": "code",
   "execution_count": 104,
   "metadata": {},
   "outputs": [],
   "source": [
    "import pandas as pd"
   ]
  },
  {
   "cell_type": "code",
   "execution_count": 105,
   "metadata": {},
   "outputs": [],
   "source": [
    "data = pd.read_csv(\"/root/generic-buy-now-pay-later-project-group-23/COVID-19_Data/Data/COVID_AU_state.csv\")"
   ]
  },
  {
   "cell_type": "code",
   "execution_count": 106,
   "metadata": {},
   "outputs": [],
   "source": [
    "data = data[['date','state','state_abbrev','confirmed']]\n"
   ]
  },
  {
   "cell_type": "code",
   "execution_count": 107,
   "metadata": {},
   "outputs": [],
   "source": [
    "data = data[(data[\"date\"]>=\"2021-02-28\")\\\n",
    "    &(data[\"date\"]<=\"2021-08-28\")]"
   ]
  },
  {
   "cell_type": "code",
   "execution_count": 108,
   "metadata": {},
   "outputs": [],
   "source": [
    "Covid_ACT = (data[data['state_abbrev'] == 'ACT'])\n",
    "Covid_NSW = (data[data['state_abbrev'] == 'NSW'])\n",
    "Covid_NT = (data[data['state_abbrev'] == 'NT'])\n",
    "Covid_QLD = (data[data['state_abbrev'] == 'QLD'])\n",
    "Covid_SA = (data[data['state_abbrev'] == 'SA'])\n",
    "Covid_VIC = (data[data['state_abbrev'] == 'VIC'])\n",
    "Covid_TAS = (data[data['state_abbrev'] == 'TAS'])\n",
    "Covid_WA = (data[data['state_abbrev'] == 'WA'])"
   ]
  },
  {
   "cell_type": "code",
   "execution_count": 109,
   "metadata": {},
   "outputs": [
    {
     "name": "stderr",
     "output_type": "stream",
     "text": [
      "/tmp/ipykernel_318/4219908546.py:1: FutureWarning: The frame.append method is deprecated and will be removed from pandas in a future version. Use pandas.concat instead.\n",
      "  Covid = Covid_ACT.append(Covid_NSW)\n",
      "/tmp/ipykernel_318/4219908546.py:2: FutureWarning: The frame.append method is deprecated and will be removed from pandas in a future version. Use pandas.concat instead.\n",
      "  Covid =Covid.append(Covid_NT)\n",
      "/tmp/ipykernel_318/4219908546.py:3: FutureWarning: The frame.append method is deprecated and will be removed from pandas in a future version. Use pandas.concat instead.\n",
      "  Covid =Covid.append(Covid_QLD)\n",
      "/tmp/ipykernel_318/4219908546.py:4: FutureWarning: The frame.append method is deprecated and will be removed from pandas in a future version. Use pandas.concat instead.\n",
      "  Covid =Covid.append(Covid_SA)\n",
      "/tmp/ipykernel_318/4219908546.py:5: FutureWarning: The frame.append method is deprecated and will be removed from pandas in a future version. Use pandas.concat instead.\n",
      "  Covid =Covid.append(Covid_VIC)\n",
      "/tmp/ipykernel_318/4219908546.py:6: FutureWarning: The frame.append method is deprecated and will be removed from pandas in a future version. Use pandas.concat instead.\n",
      "  Covid =Covid.append(Covid_TAS)\n",
      "/tmp/ipykernel_318/4219908546.py:7: FutureWarning: The frame.append method is deprecated and will be removed from pandas in a future version. Use pandas.concat instead.\n",
      "  Covid =Covid.append(Covid_WA)\n"
     ]
    }
   ],
   "source": [
    "Covid = Covid_ACT.append(Covid_NSW)\n",
    "Covid =Covid.append(Covid_NT)\n",
    "Covid =Covid.append(Covid_QLD)\n",
    "Covid =Covid.append(Covid_SA)\n",
    "Covid =Covid.append(Covid_VIC)\n",
    "Covid =Covid.append(Covid_TAS)\n",
    "Covid =Covid.append(Covid_WA)\n",
    "Covid = Covid.set_index('date')"
   ]
  },
  {
   "cell_type": "code",
   "execution_count": 110,
   "metadata": {},
   "outputs": [
    {
     "data": {
      "text/html": [
       "<div>\n",
       "<style scoped>\n",
       "    .dataframe tbody tr th:only-of-type {\n",
       "        vertical-align: middle;\n",
       "    }\n",
       "\n",
       "    .dataframe tbody tr th {\n",
       "        vertical-align: top;\n",
       "    }\n",
       "\n",
       "    .dataframe thead th {\n",
       "        text-align: right;\n",
       "    }\n",
       "</style>\n",
       "<table border=\"1\" class=\"dataframe\">\n",
       "  <thead>\n",
       "    <tr style=\"text-align: right;\">\n",
       "      <th></th>\n",
       "      <th>state</th>\n",
       "      <th>state_abbrev</th>\n",
       "      <th>confirmed</th>\n",
       "    </tr>\n",
       "    <tr>\n",
       "      <th>date</th>\n",
       "      <th></th>\n",
       "      <th></th>\n",
       "      <th></th>\n",
       "    </tr>\n",
       "  </thead>\n",
       "  <tbody>\n",
       "    <tr>\n",
       "      <th>2021-02-28</th>\n",
       "      <td>Australian Capital Territory</td>\n",
       "      <td>ACT</td>\n",
       "      <td>0</td>\n",
       "    </tr>\n",
       "    <tr>\n",
       "      <th>2021-03-01</th>\n",
       "      <td>Australian Capital Territory</td>\n",
       "      <td>ACT</td>\n",
       "      <td>0</td>\n",
       "    </tr>\n",
       "    <tr>\n",
       "      <th>2021-03-02</th>\n",
       "      <td>Australian Capital Territory</td>\n",
       "      <td>ACT</td>\n",
       "      <td>0</td>\n",
       "    </tr>\n",
       "    <tr>\n",
       "      <th>2021-03-03</th>\n",
       "      <td>Australian Capital Territory</td>\n",
       "      <td>ACT</td>\n",
       "      <td>2</td>\n",
       "    </tr>\n",
       "    <tr>\n",
       "      <th>2021-03-04</th>\n",
       "      <td>Australian Capital Territory</td>\n",
       "      <td>ACT</td>\n",
       "      <td>0</td>\n",
       "    </tr>\n",
       "    <tr>\n",
       "      <th>...</th>\n",
       "      <td>...</td>\n",
       "      <td>...</td>\n",
       "      <td>...</td>\n",
       "    </tr>\n",
       "    <tr>\n",
       "      <th>2021-08-24</th>\n",
       "      <td>Western Australia</td>\n",
       "      <td>WA</td>\n",
       "      <td>0</td>\n",
       "    </tr>\n",
       "    <tr>\n",
       "      <th>2021-08-25</th>\n",
       "      <td>Western Australia</td>\n",
       "      <td>WA</td>\n",
       "      <td>20</td>\n",
       "    </tr>\n",
       "    <tr>\n",
       "      <th>2021-08-26</th>\n",
       "      <td>Western Australia</td>\n",
       "      <td>WA</td>\n",
       "      <td>0</td>\n",
       "    </tr>\n",
       "    <tr>\n",
       "      <th>2021-08-27</th>\n",
       "      <td>Western Australia</td>\n",
       "      <td>WA</td>\n",
       "      <td>0</td>\n",
       "    </tr>\n",
       "    <tr>\n",
       "      <th>2021-08-28</th>\n",
       "      <td>Western Australia</td>\n",
       "      <td>WA</td>\n",
       "      <td>2</td>\n",
       "    </tr>\n",
       "  </tbody>\n",
       "</table>\n",
       "<p>1456 rows × 3 columns</p>\n",
       "</div>"
      ],
      "text/plain": [
       "                                   state state_abbrev  confirmed\n",
       "date                                                            \n",
       "2021-02-28  Australian Capital Territory          ACT          0\n",
       "2021-03-01  Australian Capital Territory          ACT          0\n",
       "2021-03-02  Australian Capital Territory          ACT          0\n",
       "2021-03-03  Australian Capital Territory          ACT          2\n",
       "2021-03-04  Australian Capital Territory          ACT          0\n",
       "...                                  ...          ...        ...\n",
       "2021-08-24             Western Australia           WA          0\n",
       "2021-08-25             Western Australia           WA         20\n",
       "2021-08-26             Western Australia           WA          0\n",
       "2021-08-27             Western Australia           WA          0\n",
       "2021-08-28             Western Australia           WA          2\n",
       "\n",
       "[1456 rows x 3 columns]"
      ]
     },
     "execution_count": 110,
     "metadata": {},
     "output_type": "execute_result"
    }
   ],
   "source": [
    "Covid"
   ]
  }
 ],
 "metadata": {
  "kernelspec": {
   "display_name": "Python 3.8.13 ('ads')",
   "language": "python",
   "name": "python3"
  },
  "language_info": {
   "codemirror_mode": {
    "name": "ipython",
    "version": 3
   },
   "file_extension": ".py",
   "mimetype": "text/x-python",
   "name": "python",
   "nbconvert_exporter": "python",
   "pygments_lexer": "ipython3",
   "version": "3.8.13"
  },
  "orig_nbformat": 4,
  "vscode": {
   "interpreter": {
    "hash": "3b4ea10016098d5ca18cdcadb80706d14952c307628f09f11f21b3bbdec48c39"
   }
  }
 },
 "nbformat": 4,
 "nbformat_minor": 2
}
